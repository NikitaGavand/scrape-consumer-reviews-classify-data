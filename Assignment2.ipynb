{
 "cells": [
  {
   "cell_type": "markdown",
   "metadata": {},
   "source": [
    "## COMP41680 -  Assignment No 2\n",
    "\n",
    "## Nikita Ravindra Gavand- Student No:19200184 "
   ]
  },
  {
   "cell_type": "code",
   "execution_count": 1,
   "metadata": {},
   "outputs": [],
   "source": [
    "#All the required imports are placed in this section\n",
    "import urllib\n",
    "import bs4\n",
    "import pandas as pd\n",
    "import string\n",
    "from nltk.tokenize import word_tokenize\n",
    "from nltk.corpus import stopwords\n",
    "from nltk.stem import PorterStemmer\n",
    "from sklearn.feature_extraction.text import CountVectorizer\n",
    "from sklearn.model_selection import train_test_split\n",
    "from sklearn import linear_model\n",
    "from sklearn.metrics import accuracy_score\n",
    "from sklearn.linear_model import LogisticRegression\n",
    "from sklearn.model_selection import cross_val_score\n",
    "from sklearn.feature_extraction.text import TfidfVectorizer\n",
    "from sklearn.metrics import *\n",
    "from sklearn import metrics\n",
    "from sklearn.model_selection import cross_val_score, RepeatedKFold\n",
    "import matplotlib.pyplot as \n",
    "from sklearn.decomposition import PCA"
   ]
  },
  {
   "cell_type": "code",
   "execution_count": 2,
   "metadata": {},
   "outputs": [],
   "source": [
    "# Fetching the data from the link given\n",
    "link = \"http://mlg.ucd.ie/modules/yalp/\"\n",
    "response = urllib.request.urlopen(link)"
   ]
  },
  {
   "cell_type": "markdown",
   "metadata": {},
   "source": [
    "## Data scraping\n",
    "\n",
    "The method of loading data from a website in a tablet or local file that is saved on your computer, is the scraping method. It is often called web scraping. That is one of the most successful ways of getting web data and funnel it into another website in some cases.\n"
   ]
  },
  {
   "cell_type": "markdown",
   "metadata": {},
   "source": [
    "Here we have collected the data from http://mlg.ucd.ie/modules/yalp/ and then we have to extract the data from the html code\n",
    "I have used beautifulSoup to parse the HTML file and extract the data from a particular tag"
   ]
  },
  {
   "cell_type": "code",
   "execution_count": 3,
   "metadata": {},
   "outputs": [],
   "source": [
    "data = response.read().decode()\n",
    "# splitting the data to fetch the each tag's data \n",
    "lines = data.strip().split(\"\\n\")\n",
    "response = urllib.request.urlopen(link)\n",
    "# Now these lines consist of raw html code from we have to parse and extract the data"
   ]
  },
  {
   "cell_type": "code",
   "execution_count": 4,
   "metadata": {},
   "outputs": [],
   "source": [
    "# We have multiple links on the above given link \n",
    "all_links = []\n",
    "parser = bs4.BeautifulSoup(data,\"html.parser\")\n",
    "# Finding all the anchor tags and appending on the link given above to fetch the actual data in that link\n",
    "for get_link in parser.findAll('a'):\n",
    "                all_links.append(get_link.get('href'))"
   ]
  },
  {
   "cell_type": "markdown",
   "metadata": {},
   "source": [
    "## Selecting three review categories : Cafe, Hotel, Restaurant\n",
    "Here we have 7 types of data \n",
    "I have choosen this dataset because they are related to each other and will be good for comparision\n",
    "The data consist of the reviews and ratings from the user"
   ]
  },
  {
   "cell_type": "code",
   "execution_count": 5,
   "metadata": {},
   "outputs": [],
   "source": [
    "#Appends the html file on the above website of all the links and picking up the comments of each reviewer\n",
    "all_links = [link+all_links[1],link+all_links[6], link+all_links[7]]\n",
    "sublinks=[]\n",
    "for l in all_links:\n",
    "        a=[]\n",
    "        response = urllib.request.urlopen(l)\n",
    "        html = response.read().decode()\n",
    "        parser = bs4.BeautifulSoup(html,\"html.parser\")\n",
    "        for get_link in parser.findAll('a'):\n",
    "                a.append(get_link.get('href'))\n",
    "        sublinks.append(a)\n",
    "#Concatenate the link and the sublinks\n",
    "sublinks = [ [link+c for c in a] for a in sublinks]"
   ]
  },
  {
   "cell_type": "markdown",
   "metadata": {},
   "source": [
    "For building a classification model we are required to get the data in a datatframe to process further"
   ]
  },
  {
   "cell_type": "code",
   "execution_count": 6,
   "metadata": {},
   "outputs": [],
   "source": [
    "# Creating the dataframe for each category\n",
    "df=[] \n",
    "i=0\n",
    "for data in sublinks:\n",
    "        e=[] \n",
    "        rat=[] \n",
    "        for d in data:\n",
    "            response = urllib.request.urlopen(d)\n",
    "            html = response.read().decode()\n",
    "            parser = bs4.BeautifulSoup(html,\"html.parser\")\n",
    "            for linkk in parser.findAll('p',class_='review-text'):\n",
    "                                e.append(linkk.text)\n",
    "            for ratings in parser.findAll('img'):\n",
    "                if ratings.get('alt')!=None:\n",
    "                    if int(ratings.get('alt')[0])<4: \n",
    "                        rat.append('Negative')\n",
    "                    else:\n",
    "                        rat.append('Positive')\n",
    "        df.append(pd.DataFrame(e))\n",
    "        df[i]['Ratings']=rat\n",
    "        i=i+1"
   ]
  },
  {
   "cell_type": "markdown",
   "metadata": {},
   "source": [
    "## Task 1 : Data preprocessing \n",
    "\n",
    "We usually talk about certain large data sets with large numbers of rows and columns when we talk about data. While this is a potential scenario, it's not necessary, The data can be organized tables, images, audio files, videos etc.and in all kinds of different forms. Free text, image, or video data are not known to models. So it's probably not good enough if we put all our images on a slideshow and expect our model to do on his own.\n",
    "\n",
    "Data processing needs raw data to be converted into an understandable format. Real data in the world are always incomplete, inconsistent and/or missing in other habits or patterns and may have several mistakes.\n",
    "\n",
    "The following are the steps which can be performed in preprocessing"
   ]
  },
  {
   "cell_type": "code",
   "execution_count": 7,
   "metadata": {},
   "outputs": [],
   "source": [
    "#Renaming the comments columns\n",
    "df[0].rename(columns={0: 'Comments'}, inplace = True)\n",
    "df[1].rename(columns={0: 'Comments'}, inplace = True)\n",
    "df[2].rename(columns={0: 'Comments'}, inplace = True)"
   ]
  },
  {
   "cell_type": "code",
   "execution_count": 8,
   "metadata": {},
   "outputs": [
    {
     "data": {
      "text/html": [
       "<div>\n",
       "<style scoped>\n",
       "    .dataframe tbody tr th:only-of-type {\n",
       "        vertical-align: middle;\n",
       "    }\n",
       "\n",
       "    .dataframe tbody tr th {\n",
       "        vertical-align: top;\n",
       "    }\n",
       "\n",
       "    .dataframe thead th {\n",
       "        text-align: right;\n",
       "    }\n",
       "</style>\n",
       "<table border=\"1\" class=\"dataframe\">\n",
       "  <thead>\n",
       "    <tr style=\"text-align: right;\">\n",
       "      <th></th>\n",
       "      <th>Comments</th>\n",
       "      <th>Ratings</th>\n",
       "    </tr>\n",
       "  </thead>\n",
       "  <tbody>\n",
       "    <tr>\n",
       "      <td>0</td>\n",
       "      <td>The man that was working tonight (8-12-17) was...</td>\n",
       "      <td>Negative</td>\n",
       "    </tr>\n",
       "    <tr>\n",
       "      <td>1</td>\n",
       "      <td>Chris is a very rude person. Gave me an attitu...</td>\n",
       "      <td>Negative</td>\n",
       "    </tr>\n",
       "    <tr>\n",
       "      <td>2</td>\n",
       "      <td>One of my favorite gas station to stop at. The...</td>\n",
       "      <td>Positive</td>\n",
       "    </tr>\n",
       "    <tr>\n",
       "      <td>3</td>\n",
       "      <td>Oh thank Heaven for Seven Eleven! I don't know...</td>\n",
       "      <td>Negative</td>\n",
       "    </tr>\n",
       "    <tr>\n",
       "      <td>4</td>\n",
       "      <td>Five stars because of the guy who works weekda...</td>\n",
       "      <td>Positive</td>\n",
       "    </tr>\n",
       "  </tbody>\n",
       "</table>\n",
       "</div>"
      ],
      "text/plain": [
       "                                            Comments   Ratings\n",
       "0  The man that was working tonight (8-12-17) was...  Negative\n",
       "1  Chris is a very rude person. Gave me an attitu...  Negative\n",
       "2  One of my favorite gas station to stop at. The...  Positive\n",
       "3  Oh thank Heaven for Seven Eleven! I don't know...  Negative\n",
       "4  Five stars because of the guy who works weekda...  Positive"
      ]
     },
     "execution_count": 8,
     "metadata": {},
     "output_type": "execute_result"
    }
   ],
   "source": [
    "#Visualising the data frames of all the three categories\n",
    "cafe_data = df[0]\n",
    "hotel_data = df[1]\n",
    "restaurant_data = df[2]\n",
    "#The cafe data frame\n",
    "cafe_data.head()"
   ]
  },
  {
   "cell_type": "code",
   "execution_count": 9,
   "metadata": {},
   "outputs": [
    {
     "data": {
      "text/html": [
       "<div>\n",
       "<style scoped>\n",
       "    .dataframe tbody tr th:only-of-type {\n",
       "        vertical-align: middle;\n",
       "    }\n",
       "\n",
       "    .dataframe tbody tr th {\n",
       "        vertical-align: top;\n",
       "    }\n",
       "\n",
       "    .dataframe thead th {\n",
       "        text-align: right;\n",
       "    }\n",
       "</style>\n",
       "<table border=\"1\" class=\"dataframe\">\n",
       "  <thead>\n",
       "    <tr style=\"text-align: right;\">\n",
       "      <th></th>\n",
       "      <th>Comments</th>\n",
       "      <th>Ratings</th>\n",
       "    </tr>\n",
       "  </thead>\n",
       "  <tbody>\n",
       "    <tr>\n",
       "      <td>0</td>\n",
       "      <td>Melissa took us on a tour of Asia in the space...</td>\n",
       "      <td>Positive</td>\n",
       "    </tr>\n",
       "    <tr>\n",
       "      <td>1</td>\n",
       "      <td>With a group of seven of us visiting Montreal ...</td>\n",
       "      <td>Positive</td>\n",
       "    </tr>\n",
       "    <tr>\n",
       "      <td>2</td>\n",
       "      <td>Melissa is a gem! My fiancé found her tour on ...</td>\n",
       "      <td>Positive</td>\n",
       "    </tr>\n",
       "    <tr>\n",
       "      <td>3</td>\n",
       "      <td>A perfect day in Montreal! Melissa outfitted u...</td>\n",
       "      <td>Positive</td>\n",
       "    </tr>\n",
       "    <tr>\n",
       "      <td>4</td>\n",
       "      <td>I had a really great food truck tour with Meli...</td>\n",
       "      <td>Positive</td>\n",
       "    </tr>\n",
       "  </tbody>\n",
       "</table>\n",
       "</div>"
      ],
      "text/plain": [
       "                                            Comments   Ratings\n",
       "0  Melissa took us on a tour of Asia in the space...  Positive\n",
       "1  With a group of seven of us visiting Montreal ...  Positive\n",
       "2  Melissa is a gem! My fiancé found her tour on ...  Positive\n",
       "3  A perfect day in Montreal! Melissa outfitted u...  Positive\n",
       "4  I had a really great food truck tour with Meli...  Positive"
      ]
     },
     "execution_count": 9,
     "metadata": {},
     "output_type": "execute_result"
    }
   ],
   "source": [
    "#Second Data set which i have taken is a hotel dataset\n",
    "hotel_data.head()"
   ]
  },
  {
   "cell_type": "code",
   "execution_count": 10,
   "metadata": {},
   "outputs": [
    {
     "data": {
      "text/html": [
       "<div>\n",
       "<style scoped>\n",
       "    .dataframe tbody tr th:only-of-type {\n",
       "        vertical-align: middle;\n",
       "    }\n",
       "\n",
       "    .dataframe tbody tr th {\n",
       "        vertical-align: top;\n",
       "    }\n",
       "\n",
       "    .dataframe thead th {\n",
       "        text-align: right;\n",
       "    }\n",
       "</style>\n",
       "<table border=\"1\" class=\"dataframe\">\n",
       "  <thead>\n",
       "    <tr style=\"text-align: right;\">\n",
       "      <th></th>\n",
       "      <th>Comments</th>\n",
       "      <th>Ratings</th>\n",
       "    </tr>\n",
       "  </thead>\n",
       "  <tbody>\n",
       "    <tr>\n",
       "      <td>0</td>\n",
       "      <td>My husband and I had a rare afternoon off so w...</td>\n",
       "      <td>Negative</td>\n",
       "    </tr>\n",
       "    <tr>\n",
       "      <td>1</td>\n",
       "      <td>For years I thought this was only a wine store...</td>\n",
       "      <td>Positive</td>\n",
       "    </tr>\n",
       "    <tr>\n",
       "      <td>2</td>\n",
       "      <td>This place is so charming! I went with my husb...</td>\n",
       "      <td>Positive</td>\n",
       "    </tr>\n",
       "    <tr>\n",
       "      <td>3</td>\n",
       "      <td>We have been wanting to try this place for a c...</td>\n",
       "      <td>Positive</td>\n",
       "    </tr>\n",
       "    <tr>\n",
       "      <td>4</td>\n",
       "      <td>Decor looks ok but layout is too busy. Difficu...</td>\n",
       "      <td>Negative</td>\n",
       "    </tr>\n",
       "  </tbody>\n",
       "</table>\n",
       "</div>"
      ],
      "text/plain": [
       "                                            Comments   Ratings\n",
       "0  My husband and I had a rare afternoon off so w...  Negative\n",
       "1  For years I thought this was only a wine store...  Positive\n",
       "2  This place is so charming! I went with my husb...  Positive\n",
       "3  We have been wanting to try this place for a c...  Positive\n",
       "4  Decor looks ok but layout is too busy. Difficu...  Negative"
      ]
     },
     "execution_count": 10,
     "metadata": {},
     "output_type": "execute_result"
    }
   ],
   "source": [
    "#This is the restaurant dataset\n",
    "restaurant_data.head()"
   ]
  },
  {
   "cell_type": "code",
   "execution_count": 83,
   "metadata": {},
   "outputs": [],
   "source": [
    "# Storing the data in csv file\n",
    "hotel_data.to_csv('Hotel_data.csv', index = False)\n",
    "restaurant_data.to_csv('Restaurant_data.csv', index = False)\n",
    "cafe_data.to_csv('Cafe_data.csv', index = False)"
   ]
  },
  {
   "cell_type": "markdown",
   "metadata": {},
   "source": [
    "Preprocessing consist of the following steps:\n",
    "1. Removal of stopwords\n",
    "2. Tokenization\n",
    "3. Removing the punctuation\n",
    "4. Stemming to the root words\n"
   ]
  },
  {
   "cell_type": "code",
   "execution_count": 11,
   "metadata": {},
   "outputs": [],
   "source": [
    "def preprocess(review_list):\n",
    "    preprocessed_sent=list()\n",
    "    for review in review_list:    \n",
    "        text_tokens = word_tokenize(review) # tokenising the text messages\n",
    "        tokens_lower = [item.lower() for item in text_tokens] # Lower casing the words for uniformity\n",
    "        tokens_without_sw = [word for word in tokens_lower if not word in stopwords.words('english')]# Removing the stopwords\n",
    "        table = str.maketrans('', '', string.punctuation)\n",
    "        stripped = [w.translate(table) for w in tokens_without_sw]# Removing the punctuation marks\n",
    "        tokens_without_whitespace = [word.strip() for word in stripped] # Removing the whitespace before and after the words\n",
    "        #Here we have used porter stemming to stem the words in the array list\n",
    "        ps = PorterStemmer()\n",
    "        tokens_with_stem = [ps.stem(word) for word in stripped]\n",
    "        preprocessed_sent.append(' '.join(word for word in tokens_with_stem)) #stemming the words\n",
    "    return preprocessed_sent"
   ]
  },
  {
   "cell_type": "code",
   "execution_count": 36,
   "metadata": {},
   "outputs": [],
   "source": [
    "# Factorize to only numerical data\n",
    "cafe_data['Review'] = cafe_data['Ratings'].factorize()[0]\n",
    "hotel_data['Review'] = df[1]['Ratings'].factorize()[0]\n",
    "restaurant_data['Review'] = df[2]['Ratings'].factorize()[0]\n",
    "# Creating a dictionaries to save the expected lable 0 as positive and 1 as negative which is only numerical data\n",
    "Review_df = cafe_data[['Ratings', 'Review']].drop_duplicates().sort_values('Review')\n",
    "category_to_id = dict(Review_df.values)\n",
    "Review = dict(Review_df[['Review', 'Ratings']].values)"
   ]
  },
  {
   "cell_type": "markdown",
   "metadata": {},
   "source": [
    "TF-IDF is a numerical information that represents the value of a word in a text or corpus. The tf – idf value increases according to the amount of times a word appears on the document and is balanced by the number of documents in the corpus containing the word that make it possible to adapt to the fact that certain terms appear more frequently. tf – idf is one of the most common terminology weightings"
   ]
  },
  {
   "cell_type": "code",
   "execution_count": 13,
   "metadata": {},
   "outputs": [],
   "source": [
    "#Creating an array from the cafe dataframe for each dataset to get the feature names\n",
    "vectorizer1 = TfidfVectorizer()\n",
    "X1 = vectorizer1.fit_transform(preprocess(cafe_data['Comments'].to_list()))\n",
    "dfcafe_review = pd.DataFrame(X1.toarray(), columns=vectorizer1.get_feature_names())\n",
    "cafe_data['ReviewArray']=pd.DataFrame({0: dfcafe_review.to_numpy().tolist()})"
   ]
  },
  {
   "cell_type": "code",
   "execution_count": 14,
   "metadata": {},
   "outputs": [],
   "source": [
    "#Creating an array from the hotel dataframe for each dataset to get the feature name\n",
    "vectorizer2 = TfidfVectorizer()\n",
    "X2 = vectorizer2.fit_transform(preprocess(hotel_data['Comments'].to_list()))\n",
    "dfhotels_review = pd.DataFrame(X2.toarray(), columns=vectorizer2.get_feature_names())\n",
    "hotel_data['ReviewArray']=pd.DataFrame({0: dfhotels_review.to_numpy().tolist()})"
   ]
  },
  {
   "cell_type": "code",
   "execution_count": 15,
   "metadata": {},
   "outputs": [],
   "source": [
    "#Creating an array from the restaurant dataframe for each dataset to get the feature name\n",
    "vectorizer3 = TfidfVectorizer()\n",
    "X3 = vectorizer3.fit_transform(preprocess(restaurant_data['Comments'].to_list()))\n",
    "dfrestaurant_review = pd.DataFrame(X3.toarray(), columns=vectorizer3.get_feature_names())\n",
    "restaurant_data['ReviewArray']=pd.DataFrame({0: dfrestaurant_review.to_numpy().tolist()})"
   ]
  },
  {
   "cell_type": "markdown",
   "metadata": {},
   "source": [
    "## Task 2:  Building a classification model to distinguish between “positive” and “negative”\n",
    "I have used logistic regression model for this dataset\n",
    "The predictive analysis of a data is called as logistic regression. Logistic regression is used in the classification and interpretation of data between a binary variable depending on the data and one or more different absolute, ordinal, interval or ratio level variables. When the dependent variable(target) is categorical, logistic regression is used.Data are fitted to the linear regression model, which is then followed by a logistic feature that predicts the categorically dependent variable target."
   ]
  },
  {
   "cell_type": "markdown",
   "metadata": {},
   "source": [
    "We will now build the classification model for cafe data"
   ]
  },
  {
   "cell_type": "code",
   "execution_count": 60,
   "metadata": {},
   "outputs": [],
   "source": [
    "#Building a model for cafe data by fetching the apropriate data required\n",
    "X_cafe_data=dfcafe_review\n",
    "Y_cafe_data=cafe_data['Ratings']\n",
    "# Spliting the data, ito two parts which is 70% in the training set and 30% in the test set:\n",
    "X_train_cafe, X_test_cafe, y_train_cafe, y_test_cafe = train_test_split(X_cafe_data, Y_cafe_data, random_state=0, test_size = 0.30)\n",
    "my_model_cafe = linear_model.LogisticRegression()\n",
    "my_model_cafe.fit(X_train_cafe,y_train_cafe)\n",
    "# Make a set of predictions for the test data\n",
    "y_pred_cafe = my_model_cafe.predict(X_test_cafe)"
   ]
  },
  {
   "cell_type": "code",
   "execution_count": 62,
   "metadata": {},
   "outputs": [
    {
     "name": "stdout",
     "output_type": "stream",
     "text": [
      "Accuracy: 0.8983333333333333\n",
      "Confusion Matrix\n"
     ]
    },
    {
     "data": {
      "text/html": [
       "<div>\n",
       "<style scoped>\n",
       "    .dataframe tbody tr th:only-of-type {\n",
       "        vertical-align: middle;\n",
       "    }\n",
       "\n",
       "    .dataframe tbody tr th {\n",
       "        vertical-align: top;\n",
       "    }\n",
       "\n",
       "    .dataframe thead th {\n",
       "        text-align: right;\n",
       "    }\n",
       "</style>\n",
       "<table border=\"1\" class=\"dataframe\">\n",
       "  <thead>\n",
       "    <tr style=\"text-align: right;\">\n",
       "      <th>Predicted</th>\n",
       "      <th>Negative</th>\n",
       "      <th>Positive</th>\n",
       "      <th>All</th>\n",
       "    </tr>\n",
       "    <tr>\n",
       "      <th>True</th>\n",
       "      <th></th>\n",
       "      <th></th>\n",
       "      <th></th>\n",
       "    </tr>\n",
       "  </thead>\n",
       "  <tbody>\n",
       "    <tr>\n",
       "      <td>Negative</td>\n",
       "      <td>196</td>\n",
       "      <td>47</td>\n",
       "      <td>243</td>\n",
       "    </tr>\n",
       "    <tr>\n",
       "      <td>Positive</td>\n",
       "      <td>14</td>\n",
       "      <td>343</td>\n",
       "      <td>357</td>\n",
       "    </tr>\n",
       "    <tr>\n",
       "      <td>All</td>\n",
       "      <td>210</td>\n",
       "      <td>390</td>\n",
       "      <td>600</td>\n",
       "    </tr>\n",
       "  </tbody>\n",
       "</table>\n",
       "</div>"
      ],
      "text/plain": [
       "Predicted  Negative  Positive  All\n",
       "True                              \n",
       "Negative        196        47  243\n",
       "Positive         14       343  357\n",
       "All             210       390  600"
      ]
     },
     "execution_count": 62,
     "metadata": {},
     "output_type": "execute_result"
    }
   ],
   "source": [
    "# Accuracy of the data set\n",
    "accuracy = metrics.accuracy_score(y_test_cafe, y_pred_cafe) # , normalize=True, sample_weight=None\n",
    "print(\"Accuracy of cafe data \" +  str(accuracy))\n",
    "\n",
    "# confusion matrix show all the values such as TP, TN, FP,and FN. Also all the aggregate values \n",
    "print(\"Confusion Matrix of cafe data\")\n",
    "pd.crosstab(y_test_cafe, y_pred_cafe, rownames=['True'], colnames=['Predicted'], margins=True)"
   ]
  },
  {
   "cell_type": "code",
   "execution_count": 73,
   "metadata": {},
   "outputs": [
    {
     "name": "stdout",
     "output_type": "stream",
     "text": [
      "Classification Report :\n",
      "\n",
      "              precision    recall  f1-score   support\n",
      "\n",
      "    positive       0.93      0.81      0.87       243\n",
      "    negative       0.88      0.96      0.92       357\n",
      "\n",
      "    accuracy                           0.90       600\n",
      "   macro avg       0.91      0.88      0.89       600\n",
      "weighted avg       0.90      0.90      0.90       600\n",
      "\n"
     ]
    }
   ],
   "source": [
    "# Prints all the metrics report for classification\n",
    "print(\"Classification Report :\\n\")\n",
    "print(classification_report(y_test_cafe, y_pred_cafe, target_names=[\"positive\",\"negative\"]))"
   ]
  },
  {
   "cell_type": "markdown",
   "metadata": {},
   "source": [
    "Similarly we can now build classification model for hotel data. Hence the data structure is same,we have used similar technique to fit the model and predict it."
   ]
  },
  {
   "cell_type": "code",
   "execution_count": 70,
   "metadata": {},
   "outputs": [
    {
     "name": "stderr",
     "output_type": "stream",
     "text": [
      "C:\\Users\\dell\\AppData\\Roaming\\Python\\Python37\\site-packages\\sklearn\\linear_model\\logistic.py:432: FutureWarning: Default solver will be changed to 'lbfgs' in 0.22. Specify a solver to silence this warning.\n",
      "  FutureWarning)\n"
     ]
    }
   ],
   "source": [
    "#Building a model for cafe data by fetching the apropriate data required\n",
    "X_hotel_data=dfhotels_review\n",
    "Y_hotel_data=hotel_data['Ratings']\n",
    "# Splitting the dataset into two part training and test with 70 ans 30 respectively\n",
    "X_train_hotel, X_test_hotel, y_train_hotel, y_test_hotel = train_test_split(X_hotel_data, Y_hotel_data, random_state=0, test_size = 0.30)\n",
    "my_model_hotel = linear_model.LogisticRegression()\n",
    "my_model_hotel.fit(X_train_hotel,y_train_hotel)\n",
    "# prediction of the dataset on the remaining 30 %\n",
    "y_pred_hotel = my_model_hotel.predict(X_test_hotel)"
   ]
  },
  {
   "cell_type": "code",
   "execution_count": 82,
   "metadata": {},
   "outputs": [
    {
     "name": "stdout",
     "output_type": "stream",
     "text": [
      "Accuracy of hotel data 0.8933333333333333\n",
      "Confusion Matrix of hotel data\n"
     ]
    },
    {
     "data": {
      "text/html": [
       "<div>\n",
       "<style scoped>\n",
       "    .dataframe tbody tr th:only-of-type {\n",
       "        vertical-align: middle;\n",
       "    }\n",
       "\n",
       "    .dataframe tbody tr th {\n",
       "        vertical-align: top;\n",
       "    }\n",
       "\n",
       "    .dataframe thead th {\n",
       "        text-align: right;\n",
       "    }\n",
       "</style>\n",
       "<table border=\"1\" class=\"dataframe\">\n",
       "  <thead>\n",
       "    <tr style=\"text-align: right;\">\n",
       "      <th>Predicted</th>\n",
       "      <th>Negative</th>\n",
       "      <th>Positive</th>\n",
       "      <th>All</th>\n",
       "    </tr>\n",
       "    <tr>\n",
       "      <th>True</th>\n",
       "      <th></th>\n",
       "      <th></th>\n",
       "      <th></th>\n",
       "    </tr>\n",
       "  </thead>\n",
       "  <tbody>\n",
       "    <tr>\n",
       "      <td>Negative</td>\n",
       "      <td>192</td>\n",
       "      <td>51</td>\n",
       "      <td>243</td>\n",
       "    </tr>\n",
       "    <tr>\n",
       "      <td>Positive</td>\n",
       "      <td>13</td>\n",
       "      <td>344</td>\n",
       "      <td>357</td>\n",
       "    </tr>\n",
       "    <tr>\n",
       "      <td>All</td>\n",
       "      <td>205</td>\n",
       "      <td>395</td>\n",
       "      <td>600</td>\n",
       "    </tr>\n",
       "  </tbody>\n",
       "</table>\n",
       "</div>"
      ],
      "text/plain": [
       "Predicted  Negative  Positive  All\n",
       "True                              \n",
       "Negative        192        51  243\n",
       "Positive         13       344  357\n",
       "All             205       395  600"
      ]
     },
     "execution_count": 82,
     "metadata": {},
     "output_type": "execute_result"
    }
   ],
   "source": [
    "# Accuracy of the data set\n",
    "accuracy = metrics.accuracy_score(y_test_hotel, y_pred_hotel)\n",
    "print(\"Accuracy of hotel data \" +  str(accuracy))\n",
    "\n",
    "# Confusion matrix for the Hotel dataset\n",
    "print(\"Confusion Matrix of hotel data\")\n",
    "pd.crosstab(y_test_hotel, y_pred_hotel, rownames=['True'], colnames=['Predicted'], margins=True)\n"
   ]
  },
  {
   "cell_type": "code",
   "execution_count": 74,
   "metadata": {},
   "outputs": [
    {
     "name": "stdout",
     "output_type": "stream",
     "text": [
      "Classification Report :\n",
      "\n",
      "              precision    recall  f1-score   support\n",
      "\n",
      "    positive       0.94      0.79      0.86       243\n",
      "    negative       0.87      0.96      0.91       357\n",
      "\n",
      "    accuracy                           0.89       600\n",
      "   macro avg       0.90      0.88      0.89       600\n",
      "weighted avg       0.90      0.89      0.89       600\n",
      "\n"
     ]
    }
   ],
   "source": [
    "# Prints all the metrics report for classification\n",
    "print(\"Classification Report :\\n\")\n",
    "print(classification_report(y_test_hotel, y_pred_hotel, target_names=[\"positive\",\"negative\"]))"
   ]
  },
  {
   "cell_type": "code",
   "execution_count": 75,
   "metadata": {},
   "outputs": [
    {
     "name": "stderr",
     "output_type": "stream",
     "text": [
      "C:\\Users\\dell\\AppData\\Roaming\\Python\\Python37\\site-packages\\sklearn\\linear_model\\logistic.py:432: FutureWarning: Default solver will be changed to 'lbfgs' in 0.22. Specify a solver to silence this warning.\n",
      "  FutureWarning)\n"
     ]
    }
   ],
   "source": [
    "X_restaurant_data=dfrestaurant_review\n",
    "Y_restaurant_data=restaurant_data['Ratings']\n",
    "\n",
    "# Perfrom split to train, validation, test\n",
    "X_train_restaurant, X_test_restaurant, y_train_restaurant, y_test_restaurant = train_test_split(X_restaurant_data, Y_restaurant_data, random_state=0, test_size = 0.30)\n",
    "my_model_restaurant = linear_model.LogisticRegression()\n",
    "my_model_restaurant.fit(X_train_restaurant,y_train_restaurant)\n",
    "\n",
    "# Predictions for the test data\n",
    "y_pred_restaurant = my_model_restaurant.predict(X_test_restaurant)"
   ]
  },
  {
   "cell_type": "code",
   "execution_count": 79,
   "metadata": {},
   "outputs": [
    {
     "name": "stdout",
     "output_type": "stream",
     "text": [
      "Accuracy of restaurant data 0.85\n",
      "Confusion Matrix of restaurant data\n"
     ]
    },
    {
     "data": {
      "text/html": [
       "<div>\n",
       "<style scoped>\n",
       "    .dataframe tbody tr th:only-of-type {\n",
       "        vertical-align: middle;\n",
       "    }\n",
       "\n",
       "    .dataframe tbody tr th {\n",
       "        vertical-align: top;\n",
       "    }\n",
       "\n",
       "    .dataframe thead th {\n",
       "        text-align: right;\n",
       "    }\n",
       "</style>\n",
       "<table border=\"1\" class=\"dataframe\">\n",
       "  <thead>\n",
       "    <tr style=\"text-align: right;\">\n",
       "      <th>Predicted</th>\n",
       "      <th>Negative</th>\n",
       "      <th>Positive</th>\n",
       "      <th>All</th>\n",
       "    </tr>\n",
       "    <tr>\n",
       "      <th>True</th>\n",
       "      <th></th>\n",
       "      <th></th>\n",
       "      <th></th>\n",
       "    </tr>\n",
       "  </thead>\n",
       "  <tbody>\n",
       "    <tr>\n",
       "      <td>Negative</td>\n",
       "      <td>192</td>\n",
       "      <td>66</td>\n",
       "      <td>258</td>\n",
       "    </tr>\n",
       "    <tr>\n",
       "      <td>Positive</td>\n",
       "      <td>24</td>\n",
       "      <td>318</td>\n",
       "      <td>342</td>\n",
       "    </tr>\n",
       "    <tr>\n",
       "      <td>All</td>\n",
       "      <td>216</td>\n",
       "      <td>384</td>\n",
       "      <td>600</td>\n",
       "    </tr>\n",
       "  </tbody>\n",
       "</table>\n",
       "</div>"
      ],
      "text/plain": [
       "Predicted  Negative  Positive  All\n",
       "True                              \n",
       "Negative        192        66  258\n",
       "Positive         24       318  342\n",
       "All             216       384  600"
      ]
     },
     "execution_count": 79,
     "metadata": {},
     "output_type": "execute_result"
    }
   ],
   "source": [
    "# Accuracy of the data set\n",
    "accuracy = metrics.accuracy_score(y_test_restaurant, y_pred_restaurant) # , normalize=True, sample_weight=None\n",
    "print(\"Accuracy of restaurant data \" +  str(accuracy))\n",
    "\n",
    "# Confusion matrix for the restaurant dataset\n",
    "print(\"Confusion Matrix of restaurant data\")\n",
    "pd.crosstab(y_test_restaurant, y_pred_restaurant, rownames=['True'], colnames=['Predicted'], margins=True)"
   ]
  },
  {
   "cell_type": "code",
   "execution_count": 80,
   "metadata": {},
   "outputs": [
    {
     "name": "stdout",
     "output_type": "stream",
     "text": [
      "Classification Report :\n",
      "\n",
      "              precision    recall  f1-score   support\n",
      "\n",
      "    positive       0.89      0.74      0.81       258\n",
      "    negative       0.83      0.93      0.88       342\n",
      "\n",
      "    accuracy                           0.85       600\n",
      "   macro avg       0.86      0.84      0.84       600\n",
      "weighted avg       0.85      0.85      0.85       600\n",
      "\n"
     ]
    }
   ],
   "source": [
    "# Prints all the metrics report for classification\n",
    "print(\"Classification Report :\\n\")\n",
    "print(classification_report(y_test_restaurant, y_pred_restaurant, target_names=[\"positive\",\"negative\"]))"
   ]
  },
  {
   "cell_type": "markdown",
   "metadata": {},
   "source": [
    "We have observed from the classification report that there are different measure used to evaluate the classification model\n",
    "Some of them are described as follows:\n",
    "1. Accuracy is the proportion of true results among the total number of cases examined.It is a legitimate assessment option for well-balanced classification problems, not distorted or No class disparity.\n",
    "2. Precision is used to calculate true positive. Precision is a valid choice of evaluation metric when we want to be very sure of our prediction\n",
    "3. Recall has the actual possitives. Recall is a valid choice of evaluation metric when we want to capture as many positives as possible.\n",
    "4. The F1 score is a number between 0 and 1 and is the harmonic mean of precision and recall. "
   ]
  },
  {
   "cell_type": "markdown",
   "metadata": {},
   "source": [
    "# Task 3:  Evaluate the performance of each of your three classification models when applied to data from the other two selected categories."
   ]
  },
  {
   "cell_type": "markdown",
   "metadata": {},
   "source": [
    "I have used PCA, as it allows us to sum up information material in big data tables with smaller, more conveniently viewed, and evaluated summary indices.\n",
    "You have fewer interactions between variables to consider to minimize the size of your functional space and are less likely to resolve your model."
   ]
  },
  {
   "cell_type": "code",
   "execution_count": 102,
   "metadata": {},
   "outputs": [],
   "source": [
    "# Decreasing the number of components in all the datasets to 10\n",
    "pca=PCA(n_components=10)\n",
    "\n",
    "#Dimensionality reduction for Cafe\n",
    "X_cafedata=dfcafe_review.iloc[:,:-1]\n",
    "y_cafedata= cafe_data['Ratings']\n",
    "X_cafedata_pca=pca.fit_transform(X_cafedata)\n",
    "\n",
    "# splitting the reduced dataset into train set and test set\n",
    "X_train_cafe, X_test_cafe, y_train_cafe, y_test_cafe = train_test_split(X_cafedata_pca, y_cafedata, random_state=0, test_size = 0.30)"
   ]
  },
  {
   "cell_type": "code",
   "execution_count": 103,
   "metadata": {},
   "outputs": [],
   "source": [
    "#Dimensionality reduction for Hotels\n",
    "X_hoteldata=dfhotels_review.iloc[:,:-1]\n",
    "y_hoteldata=hotel_data['Ratings']\n",
    "X_hoteldata_pca=pca.fit_transform(X_hoteldata)\n",
    "\n",
    "# splitting the reduced dataset into train set and test set\n",
    "X_train_hotel, X_test_hotel, y_train_hotel, y_test_hotel = train_test_split(X_hoteldata_pca, y_hoteldata, random_state=0, test_size = 0.3)"
   ]
  },
  {
   "cell_type": "code",
   "execution_count": 87,
   "metadata": {},
   "outputs": [],
   "source": [
    "#Dimensionality reduction for Restaurant\n",
    "X_restaurantdata=dfrestaurant_review.iloc[:,:-1]\n",
    "y_restaurantdata=restaurant_data['Ratings']\n",
    "X_restaurantdata_pca=pca.fit_transform(X_restaurantdata)\n",
    "\n",
    "# splitting the reduced dataset into train set and test set\n",
    "X_train_restaurant, X_test_restaurant, y_train_restaurant, y_test_restaurant = train_test_split(X_restaurantdata_pca, y_restaurantdata, random_state=0, test_size = 0.3)"
   ]
  },
  {
   "cell_type": "code",
   "execution_count": 88,
   "metadata": {},
   "outputs": [
    {
     "name": "stderr",
     "output_type": "stream",
     "text": [
      "C:\\Users\\dell\\AppData\\Roaming\\Python\\Python37\\site-packages\\sklearn\\linear_model\\logistic.py:432: FutureWarning: Default solver will be changed to 'lbfgs' in 0.22. Specify a solver to silence this warning.\n",
      "  FutureWarning)\n",
      "C:\\Users\\dell\\AppData\\Roaming\\Python\\Python37\\site-packages\\sklearn\\linear_model\\logistic.py:432: FutureWarning: Default solver will be changed to 'lbfgs' in 0.22. Specify a solver to silence this warning.\n",
      "  FutureWarning)\n",
      "C:\\Users\\dell\\AppData\\Roaming\\Python\\Python37\\site-packages\\sklearn\\linear_model\\logistic.py:432: FutureWarning: Default solver will be changed to 'lbfgs' in 0.22. Specify a solver to silence this warning.\n",
      "  FutureWarning)\n"
     ]
    },
    {
     "data": {
      "text/plain": [
       "LogisticRegression(C=1.0, class_weight=None, dual=False, fit_intercept=True,\n",
       "                   intercept_scaling=1, l1_ratio=None, max_iter=100,\n",
       "                   multi_class='warn', n_jobs=None, penalty='l2',\n",
       "                   random_state=None, solver='warn', tol=0.0001, verbose=0,\n",
       "                   warm_start=False)"
      ]
     },
     "execution_count": 88,
     "metadata": {},
     "output_type": "execute_result"
    }
   ],
   "source": [
    "# Now we have to train the models using the reduced dataset( Please note: We can also use transform to model)\n",
    "\n",
    "#Training cafe model\n",
    "cafemodel = linear_model.LogisticRegression()\n",
    "cafemodel.fit(X_train_cafe,y_train_cafe)\n",
    "\n",
    "# Training hotel model\n",
    "hotelmodel = linear_model.LogisticRegression()\n",
    "hotelmodel.fit(X_train_hotel,y_train_hotel)\n",
    "\n",
    "# Training restaurant model\n",
    "restaurantmodel = linear_model.LogisticRegression()\n",
    "restaurantmodel.fit(X_train_restaurant,y_train_restaurant)"
   ]
  },
  {
   "cell_type": "code",
   "execution_count": 89,
   "metadata": {},
   "outputs": [
    {
     "name": "stdout",
     "output_type": "stream",
     "text": [
      "Classification Report :\n",
      "\n",
      "              precision    recall  f1-score   support\n",
      "\n",
      "    positive       0.21      0.19      0.20       243\n",
      "    negative       0.49      0.53      0.51       357\n",
      "\n",
      "    accuracy                           0.39       600\n",
      "   macro avg       0.35      0.36      0.35       600\n",
      "weighted avg       0.38      0.39      0.38       600\n",
      "\n"
     ]
    }
   ],
   "source": [
    "# cafe on hotel model\n",
    "y_pred_cafe = hotelmodel.predict(X_test_cafe)\n",
    "\n",
    "# Confusion matrix for the Cafe dataset\n",
    "confmatrix = confusion_matrix(y_test_cafe , y_pred_cafe)\n",
    "print(\"Classification Report :\\n\")\n",
    "print(classification_report(y_test_cafe, y_pred_cafe, target_names=[\"positive\",\"negative\"]))\n"
   ]
  },
  {
   "cell_type": "code",
   "execution_count": 90,
   "metadata": {},
   "outputs": [
    {
     "name": "stdout",
     "output_type": "stream",
     "text": [
      "Classification Report :\n",
      "\n",
      "              precision    recall  f1-score   support\n",
      "\n",
      "    positive       0.69      0.59      0.64       243\n",
      "    negative       0.75      0.82      0.78       357\n",
      "\n",
      "    accuracy                           0.73       600\n",
      "   macro avg       0.72      0.70      0.71       600\n",
      "weighted avg       0.72      0.73      0.72       600\n",
      "\n"
     ]
    }
   ],
   "source": [
    "# cafe on restaurant model\n",
    "y_pred_cafe = restaurantmodel.predict(X_test_cafe)\n",
    "\n",
    "# Confusion matrix for the Cafe dataset\n",
    "confmatrix = confusion_matrix(y_test_cafe , y_pred_cafe)\n",
    "print(\"Classification Report :\\n\")\n",
    "print(classification_report(y_test_cafe, y_pred_cafe, target_names=[\"positive\",\"negative\"]))"
   ]
  },
  {
   "cell_type": "code",
   "execution_count": 94,
   "metadata": {},
   "outputs": [
    {
     "data": {
      "image/png": "[encoded data removed]",
      "text/plain": [
       "<Figure size 432x288 with 1 Axes>"
      ]
     },
     "metadata": {
      "needs_background": "light"
     },
     "output_type": "display_data"
    }
   ],
   "source": [
    "values = [0.20, 0.64]\n",
    "names = ['Hotels','Restaurant']\n",
    "plt.figure(figsize=(6,4))\n",
    "# set up the bar chart\n",
    "plt.bar(names, values, color=\"Red\", width=0.5)\n",
    "plt.title(\"F1-Score of classifiers when Dataset is trained on Cafe dataset and Tested on Restaurants and Hotels datasets\", fontsize=12)\n",
    "plt.ylabel(\"F1-score of classifier\", fontsize=14)\n",
    "# increase the font sizes on the axes\n",
    "plt.xticks(fontsize=12)\n",
    "plt.yticks(fontsize=12);"
   ]
  },
  {
   "cell_type": "code",
   "execution_count": 95,
   "metadata": {},
   "outputs": [
    {
     "name": "stdout",
     "output_type": "stream",
     "text": [
      "Classification Report :\n",
      "\n",
      "              precision    recall  f1-score   support\n",
      "\n",
      "    positive       0.24      0.18      0.21       243\n",
      "    negative       0.52      0.60      0.56       357\n",
      "\n",
      "    accuracy                           0.43       600\n",
      "   macro avg       0.38      0.39      0.38       600\n",
      "weighted avg       0.40      0.43      0.41       600\n",
      "\n"
     ]
    }
   ],
   "source": [
    "# hotel on cafe model\n",
    "y_pred_hotel = cafemodel.predict(X_test_hotel)\n",
    "\n",
    "# Confusion matrix for the hotel dataset\n",
    "confmatrix = confusion_matrix(y_test_hotel , y_pred_hotel)\n",
    "print(\"Classification Report :\\n\")\n",
    "print(classification_report(y_test_hotel, y_pred_hotel, target_names=[\"positive\",\"negative\"]))"
   ]
  },
  {
   "cell_type": "code",
   "execution_count": 96,
   "metadata": {},
   "outputs": [
    {
     "name": "stdout",
     "output_type": "stream",
     "text": [
      "Classification Report :\n",
      "\n",
      "              precision    recall  f1-score   support\n",
      "\n",
      "    positive       0.34      0.28      0.30       243\n",
      "    negative       0.56      0.63      0.59       357\n",
      "\n",
      "    accuracy                           0.48       600\n",
      "   macro avg       0.45      0.45      0.45       600\n",
      "weighted avg       0.47      0.48      0.47       600\n",
      "\n"
     ]
    }
   ],
   "source": [
    "# hotel on restaurant model\n",
    "y_pred_hotel = restaurantmodel.predict(X_test_hotel)\n",
    "\n",
    "# Confusion matrix for the hotel dataset\n",
    "confmatrix = confusion_matrix(y_test_hotel , y_pred_hotel)\n",
    "print(\"Classification Report :\\n\")\n",
    "print(classification_report(y_test_hotel, y_pred_hotel, target_names=[\"positive\",\"negative\"]))"
   ]
  },
  {
   "cell_type": "code",
   "execution_count": 98,
   "metadata": {},
   "outputs": [
    {
     "data": {
      "image/png": "[encoded data removed]",
      "text/plain": [
       "<Figure size 432x288 with 1 Axes>"
      ]
     },
     "metadata": {
      "needs_background": "light"
     },
     "output_type": "display_data"
    }
   ],
   "source": [
    "values = [0.21, 0.30]\n",
    "names = ['Cafes','Restaurants']\n",
    "plt.figure(figsize=(6,4))\n",
    "# set up the bar chart\n",
    "plt.bar(names, values, color=\"Green\", width=0.5)\n",
    "plt.title(\"F1-Score of classifiers when Dataset is trained on hotel dataset and Tested on Cafes and Restaurants datasets\", fontsize=12)\n",
    "plt.ylabel(\"F1-score of classifier\", fontsize=14)\n",
    "# increase the font sizes on the axes\n",
    "plt.xticks(fontsize=12)\n",
    "plt.yticks(fontsize=12);"
   ]
  },
  {
   "cell_type": "code",
   "execution_count": 99,
   "metadata": {},
   "outputs": [
    {
     "name": "stdout",
     "output_type": "stream",
     "text": [
      "Classification Report :\n",
      "\n",
      "              precision    recall  f1-score   support\n",
      "\n",
      "    positive       0.74      0.51      0.60       258\n",
      "    negative       0.70      0.87      0.77       342\n",
      "\n",
      "    accuracy                           0.71       600\n",
      "   macro avg       0.72      0.69      0.69       600\n",
      "weighted avg       0.72      0.71      0.70       600\n",
      "\n"
     ]
    }
   ],
   "source": [
    "# restaurant on cafe model\n",
    "y_pred_restaurant = cafemodel.predict(X_test_restaurant)\n",
    "\n",
    "# Confusion matrix for the restaurant dataset\n",
    "confmatrix = confusion_matrix(y_test_restaurant , y_pred_restaurant)\n",
    "print(\"Classification Report :\\n\")\n",
    "print(classification_report(y_test_restaurant, y_pred_restaurant, target_names=[\"positive\",\"negative\"]))"
   ]
  },
  {
   "cell_type": "code",
   "execution_count": 100,
   "metadata": {},
   "outputs": [
    {
     "name": "stdout",
     "output_type": "stream",
     "text": [
      "Classification Report :\n",
      "\n",
      "              precision    recall  f1-score   support\n",
      "\n",
      "    positive       0.20      0.12      0.15       258\n",
      "    negative       0.48      0.62      0.54       342\n",
      "\n",
      "    accuracy                           0.41       600\n",
      "   macro avg       0.34      0.37      0.35       600\n",
      "weighted avg       0.36      0.41      0.37       600\n",
      "\n"
     ]
    }
   ],
   "source": [
    "# restaurant on hotel model\n",
    "y_pred_restaurant = hotelmodel.predict(X_test_restaurant)\n",
    "\n",
    "# Confusion matrix for the restaurant dataset\n",
    "confmatrix = confusion_matrix(y_test_restaurant , y_pred_restaurant)\n",
    "print(\"Classification Report :\\n\")\n",
    "print(classification_report(y_test_restaurant, y_pred_restaurant, target_names=[\"positive\",\"negative\"]))"
   ]
  },
  {
   "cell_type": "code",
   "execution_count": 101,
   "metadata": {},
   "outputs": [
    {
     "data": {
      "image/png": "[encoded data removed]",
      "text/plain": [
       "<Figure size 432x288 with 1 Axes>"
      ]
     },
     "metadata": {
      "needs_background": "light"
     },
     "output_type": "display_data"
    }
   ],
   "source": [
    "values = [0.60, 0.15]\n",
    "names = ['Cafes','Hotels']\n",
    "plt.figure(figsize=(6,4))\n",
    "# set up the bar chart\n",
    "plt.bar(names, values, color=\"Yellow\", width=0.5)\n",
    "plt.title(\"Accuracy of classifiers when Dataset is trained on restaurant dataset and Tested on Cafes and Hotel datasets\", fontsize=12)\n",
    "plt.ylabel(\"Accuracy of classifier\", fontsize=14)\n",
    "# increase the font sizes on the axes\n",
    "plt.xticks(fontsize=12)\n",
    "plt.yticks(fontsize=12);"
   ]
  },
  {
   "cell_type": "markdown",
   "metadata": {},
   "source": [
    "## Summary"
   ]
  },
  {
   "cell_type": "markdown",
   "metadata": {},
   "source": [
    "Here, we have compared three different dataset with thier F1 score\n",
    "In Cafe model, I have first trained the model and then predicted on hotel and restaurant from which T recieve the F1 score of 0.20 and 0.64 respectively \n",
    "In the hotel model, , I have again trained the model and then predicted on cafe and restaurant from which I recieve the F1 score of 0.21 and 0.30 respectively \n",
    "In the restaurant model, , I have again trained the model and then predicted on cafe and hotel from which I recieve the F1 score of 0.60 and 0.15 respectively "
   ]
  },
  {
   "cell_type": "markdown",
   "metadata": {},
   "source": [
    "## Conclusion"
   ]
  },
  {
   "cell_type": "markdown",
   "metadata": {},
   "source": [
    "As per the description of the question we have performed three tasks such as preprocessing, building a classification model and then evaluated the performance with each of them. We have learnt different preprocessing technique while mining text and classifying it as positive or negative. We have learnt difference measures used while building a classification model. We have learnt to plot and compare 3 different types of dataset but still relatable with each other. "
   ]
  },
  {
   "cell_type": "markdown",
   "metadata": {},
   "source": [
    "## Future Scope"
   ]
  },
  {
   "cell_type": "markdown",
   "metadata": {},
   "source": [
    "We can use this data to analyse the dependencies on each other. Moreover we have other algorithms such as decision tree, Random forest, KNN, etc. We can also compare these algorithm and find which one has better accuracy and F1 score. These score can build a machine learning model and guess for the test data. It is used to train machine learning model. We can also train robots to increase the accuracy of its guesses. In Future Data science has many deep roots."
   ]
  },
  {
   "cell_type": "code",
   "execution_count": null,
   "metadata": {},
   "outputs": [],
   "source": []
  }
 ],
 "metadata": {
  "kernelspec": {
   "display_name": "Python 3",
   "language": "python",
   "name": "python3"
  },
  "language_info": {
   "codemirror_mode": {
    "name": "ipython",
    "version": 3
   },
   "file_extension": ".py",
   "mimetype": "text/x-python",
   "name": "python",
   "nbconvert_exporter": "python",
   "pygments_lexer": "ipython3",
   "version": "3.7.4"
  }
 },
 "nbformat": 4,
 "nbformat_minor": 2
}
